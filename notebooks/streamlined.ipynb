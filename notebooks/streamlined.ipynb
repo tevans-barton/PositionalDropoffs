{
 "cells": [
  {
   "attachments": {},
   "cell_type": "markdown",
   "metadata": {},
   "source": [
    "# Streamlined Record\n",
    "\n",
    "### A streamlined record of what's been worked on in this project"
   ]
  },
  {
   "attachments": {},
   "cell_type": "markdown",
   "metadata": {},
   "source": [
    "### Imports"
   ]
  },
  {
   "cell_type": "code",
   "execution_count": null,
   "metadata": {},
   "outputs": [],
   "source": [
    "from collections import defaultdict\n",
    "import pandas as pd\n",
    "import numpy as np\n",
    "import matplotlib.pyplot as plt\n",
    "import seaborn as sns\n",
    "import sys\n",
    "import os\n",
    "import json\n",
    "from scipy import stats"
   ]
  },
  {
   "cell_type": "code",
   "execution_count": null,
   "metadata": {},
   "outputs": [],
   "source": [
    "sys.path.append('/Users/tevans-barton/AAASideProjects/')\n",
    "sys.path.append('../')"
   ]
  },
  {
   "cell_type": "code",
   "execution_count": null,
   "metadata": {},
   "outputs": [],
   "source": [
    "from pfr_scraping import pfr_scraping"
   ]
  },
  {
   "cell_type": "code",
   "execution_count": null,
   "metadata": {},
   "outputs": [],
   "source": [
    "import etl\n",
    "import analysis\n",
    "import viz"
   ]
  },
  {
   "cell_type": "code",
   "execution_count": null,
   "metadata": {},
   "outputs": [],
   "source": [
    "%load_ext autoreload\n",
    "%autoreload 2"
   ]
  },
  {
   "attachments": {},
   "cell_type": "markdown",
   "metadata": {},
   "source": [
    "### ETL"
   ]
  },
  {
   "cell_type": "code",
   "execution_count": null,
   "metadata": {},
   "outputs": [],
   "source": [
    "qb_raw_data = etl.get_fantasy_points_by_age('QB')\n",
    "rb_raw_data = etl.get_fantasy_points_by_age('RB')\n",
    "wr_raw_data = etl.get_fantasy_points_by_age('WR')\n",
    "te_raw_data = etl.get_fantasy_points_by_age('TE')"
   ]
  },
  {
   "attachments": {},
   "cell_type": "markdown",
   "metadata": {},
   "source": [
    "### Analysis Demos"
   ]
  },
  {
   "attachments": {},
   "cell_type": "markdown",
   "metadata": {},
   "source": [
    "#### Getting fantasy limits\n",
    "\n",
    "We had already decided to make the seasons played limit at least 4, as this is the length of a first contract in the NFL.\n",
    "\n",
    "Then we are getting the minimum cutoff for fantasy points for each position, deciding that each player must have at least one season hitting at least the 50th percentile of fantasy points in a season for their position.\n",
    "\n",
    "We arrive at fantasy point cutoffs of:\n",
    "\n",
    "    QB: 95.19\n",
    "    RB: 73.25\n",
    "    WR: 74.3\n",
    "    TE: 42.25"
   ]
  },
  {
   "cell_type": "code",
   "execution_count": null,
   "metadata": {},
   "outputs": [],
   "source": [
    "all_qb_entries = analysis.unstack_fantasy_points_and_age(qb_raw_data)\n",
    "all_qb_entries['Fantasy Points'].describe()"
   ]
  },
  {
   "cell_type": "code",
   "execution_count": null,
   "metadata": {},
   "outputs": [],
   "source": [
    "all_rb_entries = analysis.unstack_fantasy_points_and_age(rb_raw_data)\n",
    "all_rb_entries['Fantasy Points'].describe()"
   ]
  },
  {
   "cell_type": "code",
   "execution_count": null,
   "metadata": {},
   "outputs": [],
   "source": [
    "all_wr_entries = analysis.unstack_fantasy_points_and_age(wr_raw_data)\n",
    "all_wr_entries['Fantasy Points'].describe()"
   ]
  },
  {
   "cell_type": "code",
   "execution_count": null,
   "metadata": {},
   "outputs": [],
   "source": [
    "all_te_entries = analysis.unstack_fantasy_points_and_age(te_raw_data)\n",
    "all_te_entries['Fantasy Points'].describe()"
   ]
  },
  {
   "attachments": {},
   "cell_type": "markdown",
   "metadata": {},
   "source": [
    "### Visualizations"
   ]
  },
  {
   "attachments": {},
   "cell_type": "markdown",
   "metadata": {},
   "source": [
    "#### Quarter Back"
   ]
  },
  {
   "cell_type": "code",
   "execution_count": null,
   "metadata": {},
   "outputs": [],
   "source": [
    "cleaned_data = analysis.unstack_and_normalize_fantasy_points_and_age(qb_raw_data, min_years = 4, fp_cutoff_flat = 95.19)\n",
    "viz.plot_box_and_whiskers_age(cleaned_data, 'Quarter Back')"
   ]
  },
  {
   "cell_type": "code",
   "execution_count": null,
   "metadata": {},
   "outputs": [],
   "source": [
    "cleaned_data = analysis.unstack_and_normalize_fantasy_points_and_age(qb_raw_data, min_years = 4, fp_cutoff_flat = 95.19)\n",
    "qb_med_p_val = analysis.median_and_p_vals_by_age(qb_raw_data, alternative = 'two-sided', min_years = 4, fp_cutoff_flat = 95.19)\n",
    "viz.plot_box_and_whiskers_age_with_table(cleaned_data, qb_med_p_val, 'Quarter Back')"
   ]
  },
  {
   "cell_type": "code",
   "execution_count": null,
   "metadata": {},
   "outputs": [],
   "source": [
    "cleaned_data = analysis.unstack_and_normalize_fantasy_points_and_career_season(qb_raw_data, min_years = 4, fp_cutoff_flat = 95.19)\n",
    "viz.plot_box_and_whiskers_career_season(cleaned_data, 'Quarter Back')"
   ]
  },
  {
   "cell_type": "code",
   "execution_count": null,
   "metadata": {},
   "outputs": [],
   "source": [
    "cleaned_data = analysis.unstack_and_normalize_fantasy_points_and_career_season(qb_raw_data, min_years = 4, fp_cutoff_flat = 95.19)\n",
    "qb_med_p_val = analysis.median_and_p_vals_by_career_season(qb_raw_data, alternative = 'two-sided', min_years = 4, fp_cutoff_flat = 95.19)\n",
    "viz.plot_box_and_whiskers_career_season_with_table(cleaned_data, qb_med_p_val, 'Quarter Back')"
   ]
  },
  {
   "attachments": {},
   "cell_type": "markdown",
   "metadata": {},
   "source": [
    "#### Running Back"
   ]
  },
  {
   "cell_type": "code",
   "execution_count": null,
   "metadata": {},
   "outputs": [],
   "source": [
    "cleaned_data = analysis.unstack_and_normalize_fantasy_points_and_age(rb_raw_data, min_years = 4, fp_cutoff_flat = 73.25)\n",
    "viz.plot_box_and_whiskers_age(cleaned_data, 'Running Back')"
   ]
  },
  {
   "cell_type": "code",
   "execution_count": null,
   "metadata": {},
   "outputs": [],
   "source": [
    "cleaned_data = analysis.unstack_and_normalize_fantasy_points_and_age(rb_raw_data, min_years = 4, fp_cutoff_flat = 73.25)\n",
    "rb_med_p_val = analysis.median_and_p_vals_by_age(rb_raw_data, alternative = 'two-sided', min_years = 4, fp_cutoff_flat = 73.25)\n",
    "viz.plot_box_and_whiskers_age_with_table(cleaned_data, rb_med_p_val, 'Running Back')"
   ]
  },
  {
   "cell_type": "code",
   "execution_count": null,
   "metadata": {},
   "outputs": [],
   "source": [
    "cleaned_data = analysis.unstack_and_normalize_fantasy_points_and_career_season(rb_raw_data, min_years = 4, fp_cutoff_flat = 73.25)\n",
    "viz.plot_box_and_whiskers_career_season(cleaned_data, 'Running Back')"
   ]
  },
  {
   "cell_type": "code",
   "execution_count": null,
   "metadata": {},
   "outputs": [],
   "source": [
    "cleaned_data = analysis.unstack_and_normalize_fantasy_points_and_career_season(rb_raw_data, min_years = 4, fp_cutoff_flat = 73.25)\n",
    "rb_med_p_val = analysis.median_and_p_vals_by_career_season(rb_raw_data, alternative = 'two-sided', min_years = 4, fp_cutoff_flat = 73.25)\n",
    "viz.plot_box_and_whiskers_career_season_with_table(cleaned_data, rb_med_p_val, 'Running Back')"
   ]
  },
  {
   "attachments": {},
   "cell_type": "markdown",
   "metadata": {},
   "source": [
    "#### Wide Receiver"
   ]
  },
  {
   "cell_type": "code",
   "execution_count": null,
   "metadata": {},
   "outputs": [],
   "source": [
    "cleaned_data = analysis.unstack_and_normalize_fantasy_points_and_age(wr_raw_data, min_years = 4, fp_cutoff_flat = 74.3)\n",
    "viz.plot_box_and_whiskers_age(cleaned_data, 'Wide Receiver')"
   ]
  },
  {
   "cell_type": "code",
   "execution_count": null,
   "metadata": {},
   "outputs": [],
   "source": [
    "cleaned_data = analysis.unstack_and_normalize_fantasy_points_and_age(wr_raw_data, min_years = 4, fp_cutoff_flat = 74.3)\n",
    "wr_med_p_val = analysis.median_and_p_vals_by_age(wr_raw_data, alternative = 'two-sided', min_years = 4, fp_cutoff_flat = 74.3)\n",
    "viz.plot_box_and_whiskers_age_with_table(cleaned_data, wr_med_p_val, 'Wide Receiver')"
   ]
  },
  {
   "cell_type": "code",
   "execution_count": null,
   "metadata": {},
   "outputs": [],
   "source": [
    "cleaned_data = analysis.unstack_and_normalize_fantasy_points_and_career_season(wr_raw_data, min_years = 4, fp_cutoff_flat = 74.3)\n",
    "viz.plot_box_and_whiskers_career_season(cleaned_data, 'Wide Receiver')"
   ]
  },
  {
   "cell_type": "code",
   "execution_count": null,
   "metadata": {},
   "outputs": [],
   "source": [
    "cleaned_data = analysis.unstack_and_normalize_fantasy_points_and_career_season(wr_raw_data, min_years = 4, fp_cutoff_flat = 74.3)\n",
    "wr_med_p_val = analysis.median_and_p_vals_by_career_season(wr_raw_data, alternative = 'two-sided', min_years = 4, fp_cutoff_flat = 74.3)\n",
    "viz.plot_box_and_whiskers_career_season_with_table(cleaned_data, wr_med_p_val, 'Wide Receiver')"
   ]
  },
  {
   "attachments": {},
   "cell_type": "markdown",
   "metadata": {},
   "source": [
    "#### Tight End"
   ]
  },
  {
   "cell_type": "code",
   "execution_count": null,
   "metadata": {},
   "outputs": [],
   "source": [
    "cleaned_data = analysis.unstack_and_normalize_fantasy_points_and_age(te_raw_data, min_years = 4, fp_cutoff_flat = 42.25)\n",
    "viz.plot_box_and_whiskers_age(cleaned_data, 'Tight End')"
   ]
  },
  {
   "cell_type": "code",
   "execution_count": null,
   "metadata": {},
   "outputs": [],
   "source": [
    "cleaned_data = analysis.unstack_and_normalize_fantasy_points_and_age(te_raw_data, min_years = 4, fp_cutoff_flat = 42.25)\n",
    "te_med_p_val = analysis.median_and_p_vals_by_age(te_raw_data, alternative = 'two-sided', min_years = 4, fp_cutoff_flat = 42.25)\n",
    "viz.plot_box_and_whiskers_age_with_table(cleaned_data, te_med_p_val, 'Tight End')"
   ]
  },
  {
   "cell_type": "code",
   "execution_count": null,
   "metadata": {},
   "outputs": [],
   "source": [
    "cleaned_data = analysis.unstack_and_normalize_fantasy_points_and_career_season(te_raw_data, min_years = 4, fp_cutoff_flat = 42.25)\n",
    "viz.plot_box_and_whiskers_career_season(cleaned_data, 'Tight End')"
   ]
  },
  {
   "cell_type": "code",
   "execution_count": null,
   "metadata": {},
   "outputs": [],
   "source": [
    "cleaned_data = analysis.unstack_and_normalize_fantasy_points_and_career_season(te_raw_data, min_years = 4, fp_cutoff_flat = 42.25)\n",
    "te_med_p_val = analysis.median_and_p_vals_by_career_season(te_raw_data, alternative = 'two-sided', min_years = 4, fp_cutoff_flat = 42.25)\n",
    "viz.plot_box_and_whiskers_career_season_with_table(cleaned_data, te_med_p_val, 'Tight End')"
   ]
  },
  {
   "attachments": {},
   "cell_type": "markdown",
   "metadata": {},
   "source": [
    "#### All Position P-Values"
   ]
  },
  {
   "cell_type": "code",
   "execution_count": null,
   "metadata": {},
   "outputs": [],
   "source": [
    "min_season_vals = {'QB': 4, 'RB': 4, 'WR': 4, 'TE': 4}\n",
    "fp_cutoff_vals = {'QB': 95.19, 'RB': 73.25, 'WR': 74.3, 'TE': 42.25}"
   ]
  },
  {
   "cell_type": "code",
   "execution_count": null,
   "metadata": {},
   "outputs": [],
   "source": [
    "ttest_by_age = analysis.paired_t_test_by_age_and_position(qb_raw_data, rb_raw_data, wr_raw_data, te_raw_data, alternative = 'two-sided', min_years_dict = min_season_vals, fp_cutoff_flat_dict = fp_cutoff_vals)"
   ]
  },
  {
   "cell_type": "code",
   "execution_count": null,
   "metadata": {},
   "outputs": [],
   "source": [
    "ttest_by_age"
   ]
  },
  {
   "cell_type": "code",
   "execution_count": null,
   "metadata": {},
   "outputs": [],
   "source": [
    "viz.plot_heatmap_p_values_age_jumps(ttest_by_age)"
   ]
  },
  {
   "cell_type": "code",
   "execution_count": null,
   "metadata": {},
   "outputs": [],
   "source": [
    "ttest_by_career_season = analysis.paired_t_test_by_career_season_and_position(qb_raw_data, rb_raw_data, wr_raw_data, te_raw_data, alternative = 'two-sided', min_years_dict = min_season_vals, fp_cutoff_flat_dict = fp_cutoff_vals)"
   ]
  },
  {
   "cell_type": "code",
   "execution_count": null,
   "metadata": {},
   "outputs": [],
   "source": [
    "ttest_by_career_season"
   ]
  },
  {
   "cell_type": "code",
   "execution_count": null,
   "metadata": {},
   "outputs": [],
   "source": [
    "viz.plot_heatmap_p_values_career_season_jumps(ttest_by_career_season)"
   ]
  },
  {
   "cell_type": "code",
   "execution_count": null,
   "metadata": {},
   "outputs": [],
   "source": []
  }
 ],
 "metadata": {
  "kernelspec": {
   "display_name": "base",
   "language": "python",
   "name": "python3"
  },
  "language_info": {
   "codemirror_mode": {
    "name": "ipython",
    "version": 3
   },
   "file_extension": ".py",
   "mimetype": "text/x-python",
   "name": "python",
   "nbconvert_exporter": "python",
   "pygments_lexer": "ipython3",
   "version": "3.9.12"
  },
  "orig_nbformat": 4
 },
 "nbformat": 4,
 "nbformat_minor": 2
}
